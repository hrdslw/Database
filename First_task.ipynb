{
 "cells": [
  {
   "cell_type": "code",
   "execution_count": 3,
   "metadata": {},
   "outputs": [],
   "source": [
    "# Importing libraries\n",
    "import pandas as pd\n",
    "import numpy as np\n",
    "import matplotlib.pyplot as plt\n",
    "import seaborn as sns\n",
    "import warnings as wr\n",
    "from pathlib import Path\n",
    "from scipy.stats import pearsonr\n",
    "wr.filterwarnings('ignore')\n",
    "\n",
    "df = pd.read_excel(\"D:/Work/summary_tests.xlsx\")\n",
    "#print(df)"
   ]
  },
  {
   "cell_type": "code",
   "execution_count": null,
   "metadata": {},
   "outputs": [],
   "source": [
    "bins = [0, 30, 55, 100]\n",
    "labels = ['<30', '30-55', '56+']\n",
    "df['age_group'] = pd.cut(df['age'], bins=bins, labels=labels, right=False)\n",
    "\n",
    "#df.to_excel(\"D:/Work/summary_tests_with_age_group.xlsx\", index=False)\n",
    "\n",
    "features = [column for column in df.columns if column not in ['id_sample', 'age', 'sex', 'Unnamed: 0', 'age_group']]\n",
    "\n",
    "df.loc[df[\"sex\"] == 0, \"sex\"] = 'М'\n",
    "df.loc[df[\"sex\"] == 1, \"sex\"] = 'Ж'\n",
    "\n",
    "save_dir = Path('D:/Work/First_task')\n",
    "save_dir.mkdir(parents=True, exist_ok=True)\n",
    "\n",
    "def first_task(feature, path_to_file=save_dir):\n",
    "    \n",
    "        ax = plt.subplots(figsize=(10, 6))\n",
    "\n",
    "        sns.boxplot(data=df, x='age_group', y=feature, hue='sex', palette={'М': \"skyblue\", 'Ж': \"lightcoral\"}, hue_order = ['М', 'Ж'], ax = ax)\n",
    "        y_max = df[feature].quantile(0.99)\n",
    "        ax.set_ylim(ymax=y_max)\n",
    "        ax.set_title(f'Box Plot for Feature: {feature}', fontsize=14)\n",
    "        ax.set_xlabel('Age')\n",
    "        ax.set_ylabel(feature)\n",
    "        ax.legend(title='Sex', loc='upper right')\n",
    "\n",
    "        file_path = save_dir / f'{feature}.png'\n",
    "        plt.savefig(file_path, bbox_inches='tight')\n",
    "        plt.close()\n",
    "\n",
    "for feature in features:\n",
    "    first_task(feature)"
   ]
  }
 ],
 "metadata": {
  "kernelspec": {
   "display_name": "Python 3",
   "language": "python",
   "name": "python3"
  },
  "language_info": {
   "codemirror_mode": {
    "name": "ipython",
    "version": 3
   },
   "file_extension": ".py",
   "mimetype": "text/x-python",
   "name": "python",
   "nbconvert_exporter": "python",
   "pygments_lexer": "ipython3",
   "version": "3.13.2"
  }
 },
 "nbformat": 4,
 "nbformat_minor": 2
}
