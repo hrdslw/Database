{
 "cells": [
  {
   "cell_type": "code",
   "execution_count": 13,
   "metadata": {},
   "outputs": [
    {
     "name": "stdout",
     "output_type": "stream",
     "text": [
      "      Unnamed: 0  T258_dH+_mean  T258_dH+_std  T258_dH+_min  T258_dH+_25%  \\\n",
      "0              0       2.923077      1.605280             1          2.00   \n",
      "1              1       4.000000      2.645751             1          2.00   \n",
      "2              2       3.000000      1.414214             1          2.00   \n",
      "3              3       2.846154      1.772294             1          2.00   \n",
      "4              4       4.384615      2.063107             2          2.00   \n",
      "...          ...            ...           ...           ...           ...   \n",
      "3219        3219      15.538462     10.063261             7          9.00   \n",
      "3220        3220       4.692308      2.015962             2          3.00   \n",
      "3221        3221      12.916667      5.350588             6          8.75   \n",
      "3222        3222       7.384615      4.213836             2          5.00   \n",
      "3223        3223       7.000000      4.134115             3          4.75   \n",
      "\n",
      "      T258_dH+_50%  T258_dH+_75%  T258_dH+_max  T258_dH-_mean  T258_dH-_std  \\\n",
      "0              2.0          4.00             5       1.769231      1.739437   \n",
      "1              3.0          5.00            10       2.230769      2.521701   \n",
      "2              3.0          4.00             5       0.769231      2.773501   \n",
      "3              2.0          4.00             7       1.538462      2.875627   \n",
      "4              4.0          6.00             8       0.846154      1.214232   \n",
      "...            ...           ...           ...            ...           ...   \n",
      "3219          12.0         19.00            42       5.307692      3.326275   \n",
      "3220           5.0          6.00             8       2.153846      1.405119   \n",
      "3221          12.0         15.25            23       1.500000      1.834022   \n",
      "3222           6.0          8.00            17       2.461538      2.787334   \n",
      "3223           6.0          8.25            18       4.500000      3.089572   \n",
      "\n",
      "      ...  T278_SMR_diff_min  T278_SMR_diff_25%  T278_SMR_diff_50%  \\\n",
      "0     ...          -0.854969          -0.084948          -0.039704   \n",
      "1     ...          -0.737864          -0.101190          -0.002004   \n",
      "2     ...          -0.312871          -0.113636          -0.029562   \n",
      "3     ...          -0.860465          -0.154362          -0.041209   \n",
      "4     ...          -0.913232          -0.115234          -0.018072   \n",
      "...   ...                ...                ...                ...   \n",
      "3219  ...          -0.261944          -0.103728          -0.051200   \n",
      "3220  ...          -1.381188          -0.099881          -0.014825   \n",
      "3221  ...          -0.784203          -0.134588           0.049347   \n",
      "3222  ...          -0.373239          -0.112847          -0.003512   \n",
      "3223  ...          -0.598425          -0.117438          -0.033088   \n",
      "\n",
      "      T278_SMR_diff_75%  T278_SMR_diff_max  T278_SMR_corr  T278_SMR_tau  \\\n",
      "0              0.080041           0.382190      -0.456972     -0.266667   \n",
      "1              0.089127           0.214953      -0.144567      0.015385   \n",
      "2              0.008153           0.397260      -0.599937     -0.450188   \n",
      "3              0.100264           0.459375      -0.266544     -0.130703   \n",
      "4              0.052930           0.500554      -0.184131     -0.103854   \n",
      "...                 ...                ...            ...           ...   \n",
      "3219           0.083958           0.212740      -0.194597     -0.159420   \n",
      "3220           0.039242           0.610707      -0.118538     -0.200618   \n",
      "3221           0.110667           0.220359      -0.186524     -0.166667   \n",
      "3222           0.052903           0.303716      -0.474331     -0.356436   \n",
      "3223           0.089606           0.290828      -0.607597     -0.433846   \n",
      "\n",
      "      id_sample        age  sex  \n",
      "0             0  10.219178    1  \n",
      "1             1  11.331507    0  \n",
      "2             2  11.465753    0  \n",
      "3             3  11.701370    0  \n",
      "4             4  12.304110    1  \n",
      "...         ...        ...  ...  \n",
      "3219       3219  83.567123    1  \n",
      "3220       3220  84.380822    0  \n",
      "3221       3221  86.531507    0  \n",
      "3222       3222  87.306849    1  \n",
      "3223       3223  89.208219    0  \n",
      "\n",
      "[3224 rows x 307 columns]\n"
     ]
    }
   ],
   "source": [
    "# Importing libraries\n",
    "import pandas as pd\n",
    "import numpy as np\n",
    "import matplotlib.pyplot as plt\n",
    "import seaborn as sns\n",
    "import warnings as wr\n",
    "from pathlib import Path\n",
    "from scipy.stats import pearsonr\n",
    "wr.filterwarnings('ignore')\n",
    "work_dir = Path.cwd().parent.parent / 'Work'\n",
    "df = pd.read_excel(work_dir / \"summary_tests.xlsx\")\n",
    "print(df)"
   ]
  },
  {
   "cell_type": "code",
   "execution_count": 6,
   "metadata": {},
   "outputs": [
    {
     "data": {
      "text/plain": [
       "WindowsPath('c:/Git/Database-1')"
      ]
     },
     "execution_count": 6,
     "metadata": {},
     "output_type": "execute_result"
    }
   ],
   "source": [
    "Path.cwd()"
   ]
  },
  {
   "cell_type": "code",
   "execution_count": 19,
   "metadata": {},
   "outputs": [],
   "source": [
    "bins = [0, 30, 55, 100]\n",
    "labels = ['<30', '30-55', '56+']\n",
    "df['age_group'] = pd.cut(df['age'], bins=bins, labels=labels, right=False)\n",
    "\n",
    "#df.to_excel(\"D:/Work/summary_tests_with_age_group.xlsx\", index=False)\n",
    "\n",
    "features = [column for column in df.columns if column not in ['id_sample', 'age', 'sex', 'Unnamed: 0', 'age_group']]\n",
    "\n",
    "df.loc[df[\"sex\"] == 0, \"sex\"] = 'М'\n",
    "df.loc[df[\"sex\"] == 1, \"sex\"] = 'Ж'\n",
    "\n",
    "save_dir = work_dir / 'First_task'\n",
    "save_dir.mkdir(parents=True, exist_ok=True)\n",
    "\n",
    "def first_task(data, feature, path_to_file):\n",
    "    \n",
    "      ax = plt.subplots(figsize=(10, 6))\n",
    "      ax = sns.boxplot(\n",
    "            data=data, \n",
    "            x='age_group', \n",
    "            y=feature, \n",
    "            hue='sex', \n",
    "            palette={'М': \"skyblue\", 'Ж': \"lightcoral\"}, \n",
    "            hue_order = ['М', 'Ж']\n",
    "      )\n",
    "      y_max = df[feature].quantile(0.99)\n",
    "      ax.set_ylim(ymax=y_max)\n",
    "      #ax.set_title(f'Box Plot for Feature: {feature}', fontsize=14)\n",
    "      ax.set_xlabel('Age')\n",
    "      ax.set_ylabel(feature)\n",
    "      ax.legend(title='Sex', loc='upper right')\n",
    "\n",
    "      path = path_to_file / f'{feature}.png'\n",
    "      plt.savefig(path, bbox_inches='tight')\n",
    "      plt.close()\n",
    "\n",
    "for feature in features:\n",
    "    first_task(df, feature, save_dir)"
   ]
  },
  {
   "cell_type": "code",
   "execution_count": null,
   "metadata": {},
   "outputs": [],
   "source": []
  }
 ],
 "metadata": {
  "kernelspec": {
   "display_name": "Python 3",
   "language": "python",
   "name": "python3"
  },
  "language_info": {
   "codemirror_mode": {
    "name": "ipython",
    "version": 3
   },
   "file_extension": ".py",
   "mimetype": "text/x-python",
   "name": "python",
   "nbconvert_exporter": "python",
   "pygments_lexer": "ipython3",
   "version": "3.13.1"
  }
 },
 "nbformat": 4,
 "nbformat_minor": 2
}
