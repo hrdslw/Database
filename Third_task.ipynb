{
 "cells": [
  {
   "cell_type": "code",
   "execution_count": 2,
   "id": "8b3daa31",
   "metadata": {},
   "outputs": [],
   "source": [
    "# Importing libraries\n",
    "import pandas as pd\n",
    "import numpy as np\n",
    "import matplotlib.pyplot as plt\n",
    "import seaborn as sns\n",
    "import warnings as wr\n",
    "from pathlib import Path\n",
    "from scipy.stats import pearsonr\n",
    "from matplotlib.backends.backend_pdf import PdfPages\n",
    "from statsmodels.nonparametric.smoothers_lowess import lowess\n",
    "wr.filterwarnings('ignore')\n",
    "\n",
    "work_dir = Path.cwd().parent.parent / 'Work'\n",
    "df = pd.read_excel(work_dir / \"summary_tests.xlsx\")\n",
    "\n",
    "#print(df)"
   ]
  },
  {
   "cell_type": "code",
   "execution_count": 3,
   "id": "703e179a",
   "metadata": {},
   "outputs": [],
   "source": [
    "bins = [0, 10, 20, 30, 40, 50, 60, 70, 80, 90]\n",
    "labels = ['10', '20', '30', '40', '50', '60', '70', '80', '90']\n",
    "df['age_group'] = pd.cut(df['age'], bins=bins, labels=labels, right=False)\n",
    "\n",
    "features = [column for column in df.columns if column not in ['id_sample', 'age', 'sex', 'Unnamed: 0', 'age_group']]\n",
    "males = df[df['sex'] == 0] \n",
    "females = df[df['sex'] == 1] \n",
    "\n",
    "\n",
    "save_dir = work_dir / 'Third_task'\n",
    "save_dir.mkdir(parents=True, exist_ok=True)\n",
    "\n",
    "def Third_task(dataFrame, feature, path_to_file, lable, color):\n",
    "    path = path_to_file / lable\n",
    "    path.mkdir(parents=True, exist_ok=True)\n",
    "    \n",
    "    fig, ax = plt.subplots(figsize=(12, 8))\n",
    "    #pearsonr\n",
    "    r, p = pearsonr(dataFrame[feature], dataFrame['age'])\n",
    "    sns.scatterplot(data=dataFrame, x='age', y=feature, color=color, ax=ax)\n",
    "    #lowess\n",
    "    lowess_fit = lowess(dataFrame[feature], dataFrame['age'])\n",
    "    ax.plot(lowess_fit[:, 0], lowess_fit[:, 1], color='black', linewidth=2)\n",
    "    ax.set_title(f'{lable}. Feature: {feature}. Pearson R = {round(r, 3)}', fontsize=14)\n",
    "    ax.set_xlabel('Age')\n",
    "    ax.set_ylabel(feature)\n",
    "\n",
    "    y_max = df[feature].quantile(0.995)\n",
    "    y_min = df[feature].quantile(0.01)\n",
    "    ax.set_ylim(ymax=y_max)\n",
    "\n",
    "    file_path = path / f'{feature}.png'\n",
    "    plt.savefig(file_path, bbox_inches='tight')\n",
    "    plt.close(fig)\n",
    "\n",
    "for feature in features:\n",
    "    Third_task(df, feature, save_dir, lable='All', color='green')\n",
    "    Third_task(males, feature, save_dir, lable='Males', color='skyblue')\n",
    "    Third_task(females, feature, save_dir, lable='Females', color='lightcoral')\n"
   ]
  }
 ],
 "metadata": {
  "kernelspec": {
   "display_name": "Python 3",
   "language": "python",
   "name": "python3"
  },
  "language_info": {
   "codemirror_mode": {
    "name": "ipython",
    "version": 3
   },
   "file_extension": ".py",
   "mimetype": "text/x-python",
   "name": "python",
   "nbconvert_exporter": "python",
   "pygments_lexer": "ipython3",
   "version": "3.13.1"
  }
 },
 "nbformat": 4,
 "nbformat_minor": 5
}
