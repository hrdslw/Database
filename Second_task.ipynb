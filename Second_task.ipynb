{
 "cells": [
  {
   "cell_type": "code",
   "execution_count": 2,
   "id": "2186c2af",
   "metadata": {},
   "outputs": [],
   "source": [
    "# Importing libraries\n",
    "import pandas as pd\n",
    "import numpy as np\n",
    "import matplotlib.pyplot as plt\n",
    "import seaborn as sns\n",
    "import warnings as wr\n",
    "from pathlib import Path\n",
    "from scipy.stats import pearsonr\n",
    "wr.filterwarnings('ignore')\n",
    "\n",
    "work_dir = Path.cwd().parent.parent / 'Work'\n",
    "df = pd.read_excel(work_dir / \"summary_tests.xlsx\")\n",
    "#print(df)"
   ]
  },
  {
   "cell_type": "code",
   "execution_count": null,
   "id": "1e9edab5",
   "metadata": {},
   "outputs": [],
   "source": [
    "\n",
    "features = [column for column in df.columns if column not in ['id_sample', 'age', 'sex', 'Unnamed: 0']]\n",
    "males = df[df['sex'] == 0] \n",
    "females = df[df['sex'] == 1] \n",
    "\n",
    "save_dir = work_dir / 'Second_task'\n",
    "save_dir.mkdir(parents=True, exist_ok=True)\n",
    "\n",
    "def Correlation_table(dataFrame, features, path_to_file, lable):\n",
    "    results = []\n",
    "    path = path_to_file / lable\n",
    "    path.mkdir(parents=True, exist_ok=True)\n",
    "\n",
    "    for feature in features:\n",
    "        r, p = pearsonr(dataFrame[feature], dataFrame['age'])\n",
    "        results.append({\"Feature\": feature, \"r\": round(r, 3), \"p-value\": f\"{p:.3e}\"})\n",
    "    corr = pd.DataFrame(results)\n",
    "    corr.to_excel(path / f\"Correlation_{feature}.xlsx\", index=False)\n",
    "    return corr\n",
    "\n",
    "\n",
    "Corr_all = Correlation_table(df, features, save_dir, lable='All')\n",
    "Corr_males = Correlation_table(males, features, save_dir, lable='Males')\n",
    "Corr_females = Correlation_table(females, features, save_dir, lable='Females')\n"
   ]
  }
 ],
 "metadata": {
  "kernelspec": {
   "display_name": "Python 3",
   "language": "python",
   "name": "python3"
  },
  "language_info": {
   "codemirror_mode": {
    "name": "ipython",
    "version": 3
   },
   "file_extension": ".py",
   "mimetype": "text/x-python",
   "name": "python",
   "nbconvert_exporter": "python",
   "pygments_lexer": "ipython3",
   "version": "3.13.1"
  }
 },
 "nbformat": 4,
 "nbformat_minor": 5
}
